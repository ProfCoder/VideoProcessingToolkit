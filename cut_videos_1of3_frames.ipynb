{
 "cells": [
  {
   "cell_type": "code",
   "execution_count": 11,
   "id": "fbdbdd7d-413b-4c9b-a68d-c0bc1266b4cc",
   "metadata": {
    "scrolled": true,
    "tags": []
   },
   "outputs": [
    {
     "name": "stdout",
     "output_type": "stream",
     "text": [
      "        Date  Obs_no Flight  Total_flights  Start_time  End_time    Drone  \\\n",
      "0 2023-08-07       1      A              1         NaN       NaN  Pink_M3   \n",
      "1 2023-08-07       1      A              1         NaN       NaN  Pink_M3   \n",
      "2 2023-08-07       1      A              1         NaN       NaN  Pink_M3   \n",
      "3 2023-08-07       1      A              1         NaN       NaN  Pink_M3   \n",
      "\n",
      "  Pilot Location     Video  ... group size start   end  light quality   \\\n",
      "0    AD     GCP1  DJI_0404  ...        NaN  10.0  30.0             NaN   \n",
      "1    AD     GCP1  DJI_0405  ...        NaN  20.0  40.0             NaN   \n",
      "2    AD     GCP1  DJI_0406  ...        NaN   NaN   NaN             NaN   \n",
      "3    AD     GCP1  DJI_0407  ...        NaN   NaN   NaN             NaN   \n",
      "\n",
      "   habitat                      unique_id  \\\n",
      "0      NaN  0708_001_PM3_GCP1_AD_DJI_0404   \n",
      "1      NaN  0708_001_PM3_GCP1_AD_DJI_0405   \n",
      "2      NaN  0708_001_PM3_GCP1_AD_DJI_0406   \n",
      "3      NaN  0708_001_PM3_GCP1_AD_DJI_0407   \n",
      "\n",
      "                                      Video_Filepath  \\\n",
      "0  \\\\10.126.19.20\\couzin_lab\\wolf_project\\wolf_dr...   \n",
      "1  \\\\10.126.19.20\\couzin_lab\\wolf_project\\wolf_dr...   \n",
      "2  \\\\10.126.19.20\\couzin_lab\\wolf_project\\wolf_dr...   \n",
      "3  \\\\10.126.19.20\\couzin_lab\\wolf_project\\wolf_dr...   \n",
      "\n",
      "                                     LowRes_Filepath  \\\n",
      "0  \\\\10.126.19.20\\couzin_lab\\wolf_project\\wolf_dr...   \n",
      "1  \\\\10.126.19.20\\couzin_lab\\wolf_project\\wolf_dr...   \n",
      "2  \\\\10.126.19.20\\couzin_lab\\wolf_project\\wolf_dr...   \n",
      "3  \\\\10.126.19.20\\couzin_lab\\wolf_project\\wolf_dr...   \n",
      "\n",
      "                                   LowRes_Drive_Path  \\\n",
      "0  E:\\wolf_drone_data\\Aug_2023\\Drone_data\\Mavic3\\...   \n",
      "1  E:\\wolf_drone_data\\Aug_2023\\Drone_data\\Mavic3\\...   \n",
      "2  E:\\wolf_drone_data\\Aug_2023\\Drone_data\\Mavic3\\...   \n",
      "3  E:\\wolf_drone_data\\Aug_2023\\Drone_data\\Mavic3\\...   \n",
      "\n",
      "                                  HighRes_Drive_Path  \n",
      "0  /Users/almazbaghirova/Desktop/Hiwi/VideoCut/vi...  \n",
      "1  /Users/almazbaghirova/Desktop/Hiwi/VideoCut/vi...  \n",
      "2  /Users/almazbaghirova/Desktop/Hiwi/VideoCut/vi...  \n",
      "3  /Users/almazbaghirova/Desktop/Hiwi/VideoCut/vi...  \n",
      "\n",
      "[4 rows x 24 columns]\n",
      "['Date', 'Obs_no', 'Flight', 'Total_flights', 'Start_time', 'End_time', 'Drone', 'Pilot', 'Location', 'Video', 'Pack', 'Notes', 'curated_notes', 'fatimabi_notes', 'group size', 'start', 'end', 'light quality ', 'habitat', 'unique_id', 'Video_Filepath', 'LowRes_Filepath', 'LowRes_Drive_Path', 'HighRes_Drive_Path']\n",
      "<class 'pandas.core.frame.DataFrame'>\n",
      "RangeIndex: 4 entries, 0 to 3\n",
      "Data columns (total 24 columns):\n",
      " #   Column              Non-Null Count  Dtype         \n",
      "---  ------              --------------  -----         \n",
      " 0   Date                4 non-null      datetime64[ns]\n",
      " 1   Obs_no              4 non-null      int64         \n",
      " 2   Flight              4 non-null      object        \n",
      " 3   Total_flights       4 non-null      int64         \n",
      " 4   Start_time          0 non-null      float64       \n",
      " 5   End_time            0 non-null      float64       \n",
      " 6   Drone               4 non-null      object        \n",
      " 7   Pilot               4 non-null      object        \n",
      " 8   Location            4 non-null      object        \n",
      " 9   Video               4 non-null      object        \n",
      " 10  Pack                4 non-null      object        \n",
      " 11  Notes               4 non-null      object        \n",
      " 12  curated_notes       4 non-null      object        \n",
      " 13  fatimabi_notes      0 non-null      float64       \n",
      " 14  group size          0 non-null      float64       \n",
      " 15  start               2 non-null      float64       \n",
      " 16  end                 2 non-null      float64       \n",
      " 17  light quality       0 non-null      float64       \n",
      " 18  habitat             0 non-null      float64       \n",
      " 19  unique_id           4 non-null      object        \n",
      " 20  Video_Filepath      4 non-null      object        \n",
      " 21  LowRes_Filepath     4 non-null      object        \n",
      " 22  LowRes_Drive_Path   4 non-null      object        \n",
      " 23  HighRes_Drive_Path  4 non-null      object        \n",
      "dtypes: datetime64[ns](1), float64(8), int64(2), object(13)\n",
      "memory usage: 900.0+ bytes\n",
      "(4, 24)\n"
     ]
    }
   ],
   "source": [
    "# Import required packages \n",
    "import os\n",
    "import glob\n",
    "import cv2\n",
    "import numpy as np\n",
    "import pandas as pd\n",
    "import random\n",
    "\n",
    "# Read the training data file with error handling for bad lines\n",
    "# data = pd.read_excel(\"D:\\\\updated_final_book_1.xlsx\")  \n",
    "data = pd.read_excel(\"/Users/almazbaghirova/Desktop/Hiwi/VideoCut/test_videos.xlsx\")\n",
    "\n",
    "\n",
    "# Display the first few rows\n",
    "print(data.head())\n",
    "print(list(data.columns))\n",
    "data.info()\n",
    "\n",
    "\n",
    "def convert_path(path):\n",
    "    # Remove 'file://' prefix if present\n",
    "    if path.startswith('file://'):\n",
    "        path = path[7:]\n",
    "    # Normalize the path and ensure it's in the correct format\n",
    "    path = os.path.normpath(path)\n",
    "    return path\n",
    "\n",
    "# Check dimensions of the subset \n",
    "print(data.shape)\n",
    "data['HighRes_Drive_Path'] = data['HighRes_Drive_Path'].apply(lambda x: convert_path(x.strip()))\n"
   ]
  },
  {
   "cell_type": "code",
   "execution_count": 7,
   "id": "29cf24e6-00a9-4e57-bdc1-859bd7b7cece",
   "metadata": {},
   "outputs": [],
   "source": [
    "import pandas as pd\n",
    "from moviepy.video.io.VideoFileClip import VideoFileClip\n",
    "from tqdm import tqdm \n",
    "import os\n",
    "\n",
    "\n",
    "def convert_path(path):\n",
    "    # Remove 'file://' prefix if present\n",
    "    if path.startswith('file://'):\n",
    "        path = path[7:]\n",
    "    # Normalize the path and ensure it's in the correct format\n",
    "    path = os.path.normpath(path)\n",
    "    return path\n",
    "\n",
    "# Define a function to trim the video\n",
    "def trim_video(row):\n",
    "    video_path = convert_path(row['HighRes_Drive_Path'].strip())  # Normalize and strip any leading/trailing whitespace\n",
    "    if video_path.startswith(\"\\\\\"):\n",
    "        video_path = video_path[1:]  # Remove leading backslash if present\n",
    "    start_time = row['start']\n",
    "    end_time = row['end']\n",
    "    unique_id = row['unique_id']\n",
    "    \n",
    "    try:\n",
    "        # Load the video\n",
    "        with VideoFileClip(video_path) as video:\n",
    "            if start_time == \"start\" and pd.notnull(end_time) and end_time != \"end\":\n",
    "                end_time = float(end_time)\n",
    "                trimmed_video = video.subclip(0, end_time)\n",
    "            elif end_time == \"end\" and pd.notnull(start_time) and start_time != \"start\":\n",
    "                start_time = float(start_time)\n",
    "                trimmed_video = video.subclip(start_time, video.duration)\n",
    "            elif start_time == \"start\" and end_time == \"end\":\n",
    "                trimmed_video = video\n",
    "            elif pd.notnull(start_time) and pd.notnull(end_time) and start_time != \"start\" and end_time != \"end\":\n",
    "                start_time = float(start_time)\n",
    "                end_time = float(end_time)\n",
    "                trimmed_video = video.subclip(start_time, end_time)\n",
    "            else:\n",
    "                raise ValueError(f\"Invalid start or end time for unique ID: {unique_id}\")\n",
    "\n",
    "            # Define the output directory and filename\n",
    "            output_folder = os.path.join(output_directory, unique_id)\n",
    "            os.makedirs(output_folder, exist_ok=True)\n",
    "            output_filename = f\"{unique_id}_P01.mp4\"\n",
    "            output_path = os.path.join(output_folder, output_filename)\n",
    "            \n",
    "            # Save the trimmed video with the same quality as the original\n",
    "            trimmed_video.write_videofile(output_path, codec='libx264', preset='ultrafast', audio_codec='aac', temp_audiofile='temp-audio.m4a', remove_temp=True)\n",
    "            print(f\"Successfully processed: {output_filename}\")\n",
    "\n",
    "    except Exception as e:\n",
    "        print(f\"Error processing {unique_id}: {e}\")\n",
    "\n",
    "# Function to process videos by unique IDs\n",
    "def process_videos_by_ids(unique_ids):\n",
    "    for unique_id in unique_ids:\n",
    "        unique_id = unique_id.strip()  # Remove any leading/trailing whitespace\n",
    "        # Debug statement to check the unique ID\n",
    "        print(f\"Processing unique ID: {unique_id}\")\n",
    "\n",
    "        # Find the row corresponding to the unique ID\n",
    "        selected_row = data[data['unique_id'].astype(str).str.strip() == unique_id]\n",
    "        \n",
    "        if not selected_row.empty:\n",
    "            video_path = selected_row['HighRes_Drive_Path'].values[0]\n",
    "            print(f\"Found video path: {video_path}\")\n",
    "            selected_row.apply(trim_video, axis=1)\n",
    "        else:\n",
    "            print(f\"No video found with the unique ID: {unique_id}\")\n",
    "\n",
    "import random\n",
    "from moviepy.video.io.ffmpeg_tools import ffmpeg_extract_subclip\n",
    "\n",
    "def extract_frames(video_path, output_folder):\n",
    "    video = VideoFileClip(video_path)\n",
    "    duration = int(video.duration)\n",
    "\n",
    "    for sec in frame_indices:\n",
    "        frame_time = sec + random.random()  # Random time within each second\n",
    "        frame = video.get_frame(frame_time)\n",
    "        frame_filename = f\"{os.path.basename(video_path).split('.')[0]}_{sec+1}_{int(frame_time*1000)}.png\"\n",
    "        frame_path = os.path.join(output_folder, frame_filename)\n",
    "        video.save_frame(frame_path, t=frame_time)\n",
    "        print(f\"Extracted frame at {frame_time:.2f}s to {frame_path}\")\n",
    "\n",
    "# Example usage\n",
    "\n",
    "def process_extracted_videos(unique_ids):\n",
    "    for unique_id in unique_ids:\n",
    "        unique_id = unique_id.strip()  # Remove any leading/trailing whitespace\n",
    "        # Define the output folder\n",
    "        output_folder = os.path.join(output_directory, unique_id)\n",
    "        video_filename = f\"{unique_id}_P01.mp4\"\n",
    "        video_path = os.path.join(output_folder, video_filename)\n",
    "        \n",
    "        if os.path.exists(video_path):\n",
    "            print(f\"Processing extracted frames for video: {video_path}\")\n",
    "            \n",
    "            #Display progress bar for frame extraction\n",
    "            video = VideoFileClip(video_path)\n",
    "            duration = int(video.duration)\n",
    "            \n",
    "            # Calculate the number of frames to extract as 1/3 of the total duration\n",
    "            frames_to_extract = int(duration / 3) \n",
    "            frame_indices = sorted(random.sample(range(duration), frames_to_extract))\n",
    "            \n",
    "            with tqdm(total=len(frame_indices), desc=\"Extracting frames\", unit=\"frame\") as pbar:\n",
    "                for sec in frame_indices:\n",
    "                    frame_time = sec + random.random()\n",
    "                    frame = video.get_frame(frame_time)\n",
    "                    frame_filename = f\"{os.path.basename(video_path).split('.')[0]}_{sec+1}_{int(frame_time*1000)}.png\"\n",
    "                    frame_path = os.path.join(output_folder, frame_filename)\n",
    "                    video.save_frame(frame_path, t=frame_time)\n",
    "                    print(f\"Extracted frame at {frame_time:.2f}s to {frame_path}\")\n",
    "                    \n",
    "                    # Update the progress bar after each frame extraction\n",
    "                    pbar.update(1)\n",
    "\n",
    "        else:\n",
    "            print(f\"No trimmed video found for unique ID: {unique_id}\")\n"
   ]
  },
  {
   "cell_type": "code",
   "execution_count": 8,
   "id": "5e620c14-3e0e-4ee5-aae7-0c34e11c0b88",
   "metadata": {},
   "outputs": [],
   "source": [
    "\n",
    "# output_directory = \"D:\\\\wolf_drone_data\\\\cut_videos\" #path on windows\n",
    "output_directory = \"/Users/almazbaghirova/Desktop/Hiwi/VideoCut/cut_videos\"\n",
    "\n",
    "# Define your list of unique IDs (copy multiple IDs) \n",
    "unique_ids = ['0708_001_PM3_GCP1_AD_DJI_0404', '0708_001_PM3_GCP1_AD_DJI_0405']\n"
   ]
  },
  {
   "cell_type": "code",
   "execution_count": 9,
   "id": "ed5863bf-1b9c-4925-b642-ad146b873650",
   "metadata": {},
   "outputs": [
    {
     "name": "stdout",
     "output_type": "stream",
     "text": [
      "Processing unique ID: 0708_001_PM3_GCP1_AD_DJI_0404\n",
      "Found video path: /Users/almazbaghirova/Desktop/Hiwi/VideoCut/videos/DJI_0404.MP4\n"
     ]
    },
    {
     "name": "stderr",
     "output_type": "stream",
     "text": [
      "t:  42%|████▎     | 425/1000 [00:44<00:22, 26.05it/s, now=None]"
     ]
    },
    {
     "name": "stdout",
     "output_type": "stream",
     "text": [
      "Moviepy - Building video /Users/almazbaghirova/Desktop/Hiwi/VideoCut/cut_videos/0708_001_PM3_GCP1_AD_DJI_0404/0708_001_PM3_GCP1_AD_DJI_0404_P01.mp4.\n",
      "Moviepy - Writing video /Users/almazbaghirova/Desktop/Hiwi/VideoCut/cut_videos/0708_001_PM3_GCP1_AD_DJI_0404/0708_001_PM3_GCP1_AD_DJI_0404_P01.mp4\n",
      "\n"
     ]
    },
    {
     "name": "stderr",
     "output_type": "stream",
     "text": [
      "t:  42%|████▎     | 425/1000 [01:24<00:22, 26.05it/s, now=None]"
     ]
    },
    {
     "name": "stdout",
     "output_type": "stream",
     "text": [
      "Moviepy - Done !\n",
      "Moviepy - video ready /Users/almazbaghirova/Desktop/Hiwi/VideoCut/cut_videos/0708_001_PM3_GCP1_AD_DJI_0404/0708_001_PM3_GCP1_AD_DJI_0404_P01.mp4\n",
      "Successfully processed: 0708_001_PM3_GCP1_AD_DJI_0404_P01.mp4\n",
      "Processing unique ID: 0708_001_PM3_GCP1_AD_DJI_0405\n",
      "Found video path: /Users/almazbaghirova/Desktop/Hiwi/VideoCut/videos/DJI_0405.MP4\n"
     ]
    },
    {
     "name": "stderr",
     "output_type": "stream",
     "text": [
      "t:  42%|████▎     | 425/1000 [01:27<00:22, 26.05it/s, now=None]"
     ]
    },
    {
     "name": "stdout",
     "output_type": "stream",
     "text": [
      "Moviepy - Building video /Users/almazbaghirova/Desktop/Hiwi/VideoCut/cut_videos/0708_001_PM3_GCP1_AD_DJI_0405/0708_001_PM3_GCP1_AD_DJI_0405_P01.mp4.\n",
      "Moviepy - Writing video /Users/almazbaghirova/Desktop/Hiwi/VideoCut/cut_videos/0708_001_PM3_GCP1_AD_DJI_0405/0708_001_PM3_GCP1_AD_DJI_0405_P01.mp4\n",
      "\n"
     ]
    },
    {
     "name": "stderr",
     "output_type": "stream",
     "text": [
      "t:  42%|████▎     | 425/1000 [02:07<00:22, 26.05it/s, now=None]"
     ]
    },
    {
     "name": "stdout",
     "output_type": "stream",
     "text": [
      "Moviepy - Done !\n",
      "Moviepy - video ready /Users/almazbaghirova/Desktop/Hiwi/VideoCut/cut_videos/0708_001_PM3_GCP1_AD_DJI_0405/0708_001_PM3_GCP1_AD_DJI_0405_P01.mp4\n",
      "Successfully processed: 0708_001_PM3_GCP1_AD_DJI_0405_P01.mp4\n"
     ]
    }
   ],
   "source": [
    "# # Process/ trim the videos by unique ID\n",
    "process_videos_by_ids(unique_ids)"
   ]
  },
  {
   "cell_type": "code",
   "execution_count": 10,
   "id": "c1d0cdf8-29ff-44c8-a6a0-a81bbb99756f",
   "metadata": {},
   "outputs": [
    {
     "name": "stdout",
     "output_type": "stream",
     "text": [
      "Processing extracted frames for video: /Users/almazbaghirova/Desktop/Hiwi/VideoCut/cut_videos/0708_001_PM3_GCP1_AD_DJI_0404/0708_001_PM3_GCP1_AD_DJI_0404_P01.mp4\n"
     ]
    },
    {
     "name": "stderr",
     "output_type": "stream",
     "text": []
    },
    {
     "name": "stdout",
     "output_type": "stream",
     "text": [
      "Extracted frame at 2.36s to /Users/almazbaghirova/Desktop/Hiwi/VideoCut/cut_videos/0708_001_PM3_GCP1_AD_DJI_0404/0708_001_PM3_GCP1_AD_DJI_0404_P01_3_2355.png\n"
     ]
    },
    {
     "name": "stderr",
     "output_type": "stream",
     "text": []
    },
    {
     "name": "stdout",
     "output_type": "stream",
     "text": [
      "Extracted frame at 4.17s to /Users/almazbaghirova/Desktop/Hiwi/VideoCut/cut_videos/0708_001_PM3_GCP1_AD_DJI_0404/0708_001_PM3_GCP1_AD_DJI_0404_P01_5_4170.png\n"
     ]
    },
    {
     "name": "stderr",
     "output_type": "stream",
     "text": []
    },
    {
     "name": "stdout",
     "output_type": "stream",
     "text": [
      "Extracted frame at 8.23s to /Users/almazbaghirova/Desktop/Hiwi/VideoCut/cut_videos/0708_001_PM3_GCP1_AD_DJI_0404/0708_001_PM3_GCP1_AD_DJI_0404_P01_9_8232.png\n"
     ]
    },
    {
     "name": "stderr",
     "output_type": "stream",
     "text": []
    },
    {
     "name": "stdout",
     "output_type": "stream",
     "text": [
      "Extracted frame at 11.93s to /Users/almazbaghirova/Desktop/Hiwi/VideoCut/cut_videos/0708_001_PM3_GCP1_AD_DJI_0404/0708_001_PM3_GCP1_AD_DJI_0404_P01_12_11934.png\n"
     ]
    },
    {
     "name": "stderr",
     "output_type": "stream",
     "text": []
    },
    {
     "name": "stdout",
     "output_type": "stream",
     "text": [
      "Extracted frame at 14.11s to /Users/almazbaghirova/Desktop/Hiwi/VideoCut/cut_videos/0708_001_PM3_GCP1_AD_DJI_0404/0708_001_PM3_GCP1_AD_DJI_0404_P01_15_14106.png\n"
     ]
    },
    {
     "name": "stderr",
     "output_type": "stream",
     "text": [
      "Extracting frames: 100%|██████████| 6/6 [00:30<00:00,  5.05s/frame]"
     ]
    },
    {
     "name": "stdout",
     "output_type": "stream",
     "text": [
      "Extracted frame at 16.07s to /Users/almazbaghirova/Desktop/Hiwi/VideoCut/cut_videos/0708_001_PM3_GCP1_AD_DJI_0404/0708_001_PM3_GCP1_AD_DJI_0404_P01_17_16065.png\n",
      "Processing extracted frames for video: /Users/almazbaghirova/Desktop/Hiwi/VideoCut/cut_videos/0708_001_PM3_GCP1_AD_DJI_0405/0708_001_PM3_GCP1_AD_DJI_0405_P01.mp4\n"
     ]
    },
    {
     "name": "stderr",
     "output_type": "stream",
     "text": [
      "\n"
     ]
    },
    {
     "name": "stdout",
     "output_type": "stream",
     "text": [
      "Extracted frame at 0.68s to /Users/almazbaghirova/Desktop/Hiwi/VideoCut/cut_videos/0708_001_PM3_GCP1_AD_DJI_0405/0708_001_PM3_GCP1_AD_DJI_0405_P01_1_677.png\n"
     ]
    },
    {
     "name": "stderr",
     "output_type": "stream",
     "text": []
    },
    {
     "name": "stdout",
     "output_type": "stream",
     "text": [
      "Extracted frame at 2.43s to /Users/almazbaghirova/Desktop/Hiwi/VideoCut/cut_videos/0708_001_PM3_GCP1_AD_DJI_0405/0708_001_PM3_GCP1_AD_DJI_0405_P01_3_2432.png\n"
     ]
    },
    {
     "name": "stderr",
     "output_type": "stream",
     "text": []
    },
    {
     "name": "stdout",
     "output_type": "stream",
     "text": [
      "Extracted frame at 9.09s to /Users/almazbaghirova/Desktop/Hiwi/VideoCut/cut_videos/0708_001_PM3_GCP1_AD_DJI_0405/0708_001_PM3_GCP1_AD_DJI_0405_P01_10_9090.png\n"
     ]
    },
    {
     "name": "stderr",
     "output_type": "stream",
     "text": []
    },
    {
     "name": "stdout",
     "output_type": "stream",
     "text": [
      "Extracted frame at 11.30s to /Users/almazbaghirova/Desktop/Hiwi/VideoCut/cut_videos/0708_001_PM3_GCP1_AD_DJI_0405/0708_001_PM3_GCP1_AD_DJI_0405_P01_12_11298.png\n"
     ]
    },
    {
     "name": "stderr",
     "output_type": "stream",
     "text": []
    },
    {
     "name": "stdout",
     "output_type": "stream",
     "text": [
      "Extracted frame at 14.36s to /Users/almazbaghirova/Desktop/Hiwi/VideoCut/cut_videos/0708_001_PM3_GCP1_AD_DJI_0405/0708_001_PM3_GCP1_AD_DJI_0405_P01_15_14362.png\n"
     ]
    },
    {
     "name": "stderr",
     "output_type": "stream",
     "text": [
      "Extracting frames: 100%|██████████| 6/6 [00:29<00:00,  4.96s/frame]"
     ]
    },
    {
     "name": "stdout",
     "output_type": "stream",
     "text": [
      "Extracted frame at 19.13s to /Users/almazbaghirova/Desktop/Hiwi/VideoCut/cut_videos/0708_001_PM3_GCP1_AD_DJI_0405/0708_001_PM3_GCP1_AD_DJI_0405_P01_20_19129.png\n"
     ]
    },
    {
     "name": "stderr",
     "output_type": "stream",
     "text": [
      "\n"
     ]
    }
   ],
   "source": [
    "# Process the extracted frames for the trimmed videos\n",
    "process_extracted_videos(unique_ids)"
   ]
  },
  {
   "cell_type": "code",
   "execution_count": null,
   "id": "8328a013",
   "metadata": {},
   "outputs": [
    {
     "name": "stdout",
     "output_type": "stream",
     "text": [
      "Deleted original video: /Users/almazbaghirova/Desktop/Hiwi/VideoCut/videos/DJI_0404.MP4\n",
      "Deleted original video: /Users/almazbaghirova/Desktop/Hiwi/VideoCut/videos/DJI_0405.MP4\n"
     ]
    }
   ],
   "source": [
    "# This function deletes the original videos after processing is completed.\n",
    "def delete_original_videos(unique_ids):\n",
    "    for unique_id in unique_ids:\n",
    "        unique_id = unique_id.strip()\n",
    "        selected_row = data[data['unique_id'].astype(str).str.strip() == unique_id]\n",
    "        \n",
    "        if not selected_row.empty:\n",
    "            video_path = selected_row['HighRes_Drive_Path'].values[0]\n",
    "            \n",
    "            if os.path.exists(video_path):\n",
    "                os.remove(video_path)\n",
    "                print(f\"Deleted original video: {video_path}\")\n",
    "            else:\n",
    "                print(f\"Original video not found: {video_path}\")\n",
    "        else:\n",
    "            print(f\"No video found with the unique ID: {unique_id}\")\n",
    "\n",
    "delete_original_videos(unique_ids)\n",
    "\n"
   ]
  },
  {
   "cell_type": "code",
   "execution_count": null,
   "id": "217e5791",
   "metadata": {},
   "outputs": [],
   "source": []
  }
 ],
 "metadata": {
  "kernelspec": {
   "display_name": "video_env",
   "language": "python",
   "name": "python3"
  },
  "language_info": {
   "codemirror_mode": {
    "name": "ipython",
    "version": 3
   },
   "file_extension": ".py",
   "mimetype": "text/x-python",
   "name": "python",
   "nbconvert_exporter": "python",
   "pygments_lexer": "ipython3",
   "version": "3.11.7"
  },
  "widgets": {
   "application/vnd.jupyter.widget-state+json": {
    "state": {},
    "version_major": 2,
    "version_minor": 0
   }
  }
 },
 "nbformat": 4,
 "nbformat_minor": 5
}
