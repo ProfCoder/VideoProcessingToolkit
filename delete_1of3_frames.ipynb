{
 "cells": [
  {
   "cell_type": "code",
   "execution_count": 35,
   "id": "4cff0cf8",
   "metadata": {},
   "outputs": [
    {
     "data": {
      "application/vnd.jupyter.widget-view+json": {
       "model_id": "0d3a215ed5b9436399aea99b4987800a",
       "version_major": 2,
       "version_minor": 0
      },
      "text/plain": [
       "Label(value='Select the folders you want to process:')"
      ]
     },
     "metadata": {},
     "output_type": "display_data"
    },
    {
     "data": {
      "application/vnd.jupyter.widget-view+json": {
       "model_id": "b02f4bba9e8e4246888bf8007e3751c6",
       "version_major": 2,
       "version_minor": 0
      },
      "text/plain": [
       "VBox(children=(Checkbox(value=False, description='0708_001_PM3_GCP1_AD_DJI_0406', layout=Layout(width='100%'))…"
      ]
     },
     "metadata": {},
     "output_type": "display_data"
    },
    {
     "data": {
      "application/vnd.jupyter.widget-view+json": {
       "model_id": "f2424f6a82c944b08c9708fd6ca8f3ef",
       "version_major": 2,
       "version_minor": 0
      },
      "text/plain": [
       "Button(description='Select Folders', style=ButtonStyle(button_color='#4d90fe'))"
      ]
     },
     "metadata": {},
     "output_type": "display_data"
    },
    {
     "name": "stdout",
     "output_type": "stream",
     "text": [
      "Selected folders: ['0708_001_PM3_GCP1_AD_DJI_0404']\n"
     ]
    }
   ],
   "source": [
    "import os\n",
    "import ipywidgets as widgets\n",
    "from IPython.display import display\n",
    "\n",
    "# Define the parent folder path\n",
    "parent_folder_path = \"/Users/almazbaghirova/Desktop/Hiwi/VideoCut/cut_videos\"\n",
    "\n",
    "# List all subdirectories in the parent folder\n",
    "subfolders = [f.name for f in os.scandir(parent_folder_path) if f.is_dir()]\n",
    "\n",
    "# Create checkboxes with full folder names\n",
    "folder_checkboxes = [widgets.Checkbox(value=False, description=folder, layout=widgets.Layout(width='100%')) for folder in subfolders]\n",
    "\n",
    "# Display the folder checkboxes in a vertical box layout\n",
    "folder_selection_box = widgets.VBox(folder_checkboxes)\n",
    "display(widgets.Label(\"Select the folders you want to process:\"), folder_selection_box)\n",
    "\n",
    "# Global variable to store selected folders\n",
    "selected_folders = []\n",
    "\n",
    "# Function to get selected folders\n",
    "def get_selected_folders(button):\n",
    "    global selected_folders\n",
    "    selected_folders = [cb.description for cb in folder_checkboxes if cb.value]\n",
    "    print(\"Selected folders:\", selected_folders)\n",
    "\n",
    "# Button to process selected folders\n",
    "process_button = widgets.Button(\n",
    "    description=\"Select Folders\",\n",
    "    style={'button_color': '#4d90fe'}  \n",
    ")\n",
    "process_button.on_click(get_selected_folders)\n",
    "display(process_button) \n"
   ]
  },
  {
   "cell_type": "code",
   "execution_count": null,
   "id": "7da4a640",
   "metadata": {},
   "outputs": [
    {
     "name": "stdout",
     "output_type": "stream",
     "text": [
      "Processing folder: 0708_001_PM3_GCP1_AD_DJI_0404\n"
     ]
    },
    {
     "name": "stderr",
     "output_type": "stream",
     "text": [
      "Deleting frames in 0708_001_PM3_GCP1_AD_DJI_0404: 0frame [00:00, ?frame/s]"
     ]
    },
    {
     "name": "stdout",
     "output_type": "stream",
     "text": [
      "Completed deletion of every third frame in selected folders.\n"
     ]
    },
    {
     "name": "stderr",
     "output_type": "stream",
     "text": [
      "\n"
     ]
    }
   ],
   "source": [
    "import os\n",
    "import re\n",
    "from tqdm import tqdm\n",
    "\n",
    "# Define the function to list and sort frames\n",
    "def list_and_sort_frames(folder_path, file_extension=\".png\"):\n",
    "    frames = [f for f in os.listdir(folder_path) if f.endswith(file_extension)]\n",
    "    sorted_frames = sorted(frames, key=lambda x: int(re.search(r'_P01_(\\d+)_', x).group(1)))\n",
    "    return sorted_frames\n",
    "\n",
    "# Define the function to delete every third frame with a progress bar\n",
    "def delete_every_third_frame_in_selected_folders(parent_folder_path, selected_folders, file_extension=\".png\"):\n",
    "    for subfolder_name in selected_folders:\n",
    "        subfolder_path = os.path.join(parent_folder_path, subfolder_name)\n",
    "\n",
    "        if os.path.isdir(subfolder_path):\n",
    "            print(f\"Processing folder: {subfolder_name}\")\n",
    "            \n",
    "            # List and sort frames by frame number\n",
    "            sorted_frames = list_and_sort_frames(subfolder_path, file_extension)\n",
    "\n",
    "            # Delete every third frame with progress tracking\n",
    "            with tqdm(total=len(sorted_frames) // 3, desc=f\"Deleting frames in {subfolder_name}\", unit=\"frame\") as pbar:\n",
    "                for i in range(2, len(sorted_frames), 3):\n",
    "                    frame_to_delete = sorted_frames[i]\n",
    "                    frame_path = os.path.join(subfolder_path, frame_to_delete)\n",
    "                    os.remove(frame_path)\n",
    "                    pbar.update(1)  \n",
    "                    print(f\"Deleted frame: {frame_path}\")\n",
    "\n",
    "    print(\"Completed deletion of every third frame in selected folders.\")\n",
    "\n",
    "# Example usage with progress bar\n",
    "if selected_folders:\n",
    "    delete_every_third_frame_in_selected_folders(parent_folder_path, selected_folders)\n",
    "else:\n",
    "    print(\"No folders selected. Please run the first snippet to select folders.\")\n"
   ]
  },
  {
   "cell_type": "code",
   "execution_count": null,
   "id": "77e9ac6d",
   "metadata": {},
   "outputs": [],
   "source": []
  }
 ],
 "metadata": {
  "kernelspec": {
   "display_name": "video_env",
   "language": "python",
   "name": "python3"
  },
  "language_info": {
   "codemirror_mode": {
    "name": "ipython",
    "version": 3
   },
   "file_extension": ".py",
   "mimetype": "text/x-python",
   "name": "python",
   "nbconvert_exporter": "python",
   "pygments_lexer": "ipython3",
   "version": "3.11.7"
  },
  "widgets": {
   "application/vnd.jupyter.widget-state+json": {
    "state": {},
    "version_major": 2,
    "version_minor": 0
   }
  }
 },
 "nbformat": 4,
 "nbformat_minor": 5
}
