{
 "cells": [
  {
   "cell_type": "code",
   "execution_count": null,
   "id": "cfc68714",
   "metadata": {},
   "outputs": [
    {
     "name": "stdout",
     "output_type": "stream",
     "text": [
      "Processing folder: 0708_001_PM3_GCP1_AD_DJI_0405\n",
      "Deleted frame: /Users/almazbaghirova/Desktop/Hiwi/VideoCut/cut_videos/0708_001_PM3_GCP1_AD_DJI_0405/0708_001_PM3_GCP1_AD_DJI_0405_P01_12_11709.png\n",
      "Deleted frame: /Users/almazbaghirova/Desktop/Hiwi/VideoCut/cut_videos/0708_001_PM3_GCP1_AD_DJI_0405/0708_001_PM3_GCP1_AD_DJI_0405_P01_20_19546.png\n",
      "Processing folder: 0708_001_PM3_GCP1_AD_DJI_0404\n",
      "Deleted frame: /Users/almazbaghirova/Desktop/Hiwi/VideoCut/cut_videos/0708_001_PM3_GCP1_AD_DJI_0404/0708_001_PM3_GCP1_AD_DJI_0404_P01_9_8854.png\n",
      "Deleted frame: /Users/almazbaghirova/Desktop/Hiwi/VideoCut/cut_videos/0708_001_PM3_GCP1_AD_DJI_0404/0708_001_PM3_GCP1_AD_DJI_0404_P01_14_13502.png\n",
      "Completed deletion of every third frame in each subfolder.\n"
     ]
    }
   ],
   "source": [
    "import os\n",
    "import re\n",
    "\n",
    "def list_and_sort_frames(folder_path, file_extension=\".png\"):\n",
    "    frames = [f for f in os.listdir(folder_path) if f.endswith(file_extension)]\n",
    "    sorted_frames = sorted(frames, key=lambda x: int(re.search(r'_P01_(\\d+)_', x).group(1)))\n",
    "    return sorted_frames\n",
    "\n",
    "def delete_every_third_frame_in_subfolders(parent_folder_path, file_extension=\".png\"):\n",
    "    # Loop through each subdirectory in the parent folder\n",
    "    for subfolder_name in os.listdir(parent_folder_path):\n",
    "        subfolder_path = os.path.join(parent_folder_path, subfolder_name)\n",
    "\n",
    "        if os.path.isdir(subfolder_path):\n",
    "            print(f\"Processing folder: {subfolder_name}\")\n",
    "            \n",
    "            # List and sort frames by frame number\n",
    "            sorted_frames = list_and_sort_frames(subfolder_path, file_extension)\n",
    "\n",
    "            # Delete every third frame (based on frame number)\n",
    "            for i in range(2, len(sorted_frames), 3):\n",
    "                frame_to_delete = sorted_frames[i]\n",
    "                frame_path = os.path.join(subfolder_path, frame_to_delete)\n",
    "                os.remove(frame_path)\n",
    "                print(f\"Deleted frame: {frame_path}\")\n",
    "\n",
    "    print(\"Completed deletion of every third frame.\")\n",
    "\n",
    "# Example usage\n",
    "parent_folder_path = \"/Users/almazbaghirova/Desktop/Hiwi/VideoCut/cut_videos\"\n",
    "delete_every_third_frame_in_subfolders(parent_folder_path)\n",
    "\n",
    "\n"
   ]
  }
 ],
 "metadata": {
  "kernelspec": {
   "display_name": "video_env",
   "language": "python",
   "name": "python3"
  },
  "language_info": {
   "codemirror_mode": {
    "name": "ipython",
    "version": 3
   },
   "file_extension": ".py",
   "mimetype": "text/x-python",
   "name": "python",
   "nbconvert_exporter": "python",
   "pygments_lexer": "ipython3",
   "version": "3.11.7"
  },
  "widgets": {
   "application/vnd.jupyter.widget-state+json": {
    "state": {},
    "version_major": 2,
    "version_minor": 0
   }
  }
 },
 "nbformat": 4,
 "nbformat_minor": 5
}
